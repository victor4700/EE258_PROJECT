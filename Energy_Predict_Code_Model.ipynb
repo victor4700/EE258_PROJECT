{
 "cells": [
  {
   "cell_type": "code",
   "execution_count": 1,
   "metadata": {},
   "outputs": [
    {
     "name": "stderr",
     "output_type": "stream",
     "text": [
      "/home/dongqi/.local/lib/python3.6/site-packages/tensorflow/python/framework/dtypes.py:516: FutureWarning: Passing (type, 1) or '1type' as a synonym of type is deprecated; in a future version of numpy, it will be understood as (type, (1,)) / '(1,)type'.\n",
      "  _np_qint8 = np.dtype([(\"qint8\", np.int8, 1)])\n",
      "/home/dongqi/.local/lib/python3.6/site-packages/tensorflow/python/framework/dtypes.py:517: FutureWarning: Passing (type, 1) or '1type' as a synonym of type is deprecated; in a future version of numpy, it will be understood as (type, (1,)) / '(1,)type'.\n",
      "  _np_quint8 = np.dtype([(\"quint8\", np.uint8, 1)])\n",
      "/home/dongqi/.local/lib/python3.6/site-packages/tensorflow/python/framework/dtypes.py:518: FutureWarning: Passing (type, 1) or '1type' as a synonym of type is deprecated; in a future version of numpy, it will be understood as (type, (1,)) / '(1,)type'.\n",
      "  _np_qint16 = np.dtype([(\"qint16\", np.int16, 1)])\n",
      "/home/dongqi/.local/lib/python3.6/site-packages/tensorflow/python/framework/dtypes.py:519: FutureWarning: Passing (type, 1) or '1type' as a synonym of type is deprecated; in a future version of numpy, it will be understood as (type, (1,)) / '(1,)type'.\n",
      "  _np_quint16 = np.dtype([(\"quint16\", np.uint16, 1)])\n",
      "/home/dongqi/.local/lib/python3.6/site-packages/tensorflow/python/framework/dtypes.py:520: FutureWarning: Passing (type, 1) or '1type' as a synonym of type is deprecated; in a future version of numpy, it will be understood as (type, (1,)) / '(1,)type'.\n",
      "  _np_qint32 = np.dtype([(\"qint32\", np.int32, 1)])\n",
      "/home/dongqi/.local/lib/python3.6/site-packages/tensorflow/python/framework/dtypes.py:525: FutureWarning: Passing (type, 1) or '1type' as a synonym of type is deprecated; in a future version of numpy, it will be understood as (type, (1,)) / '(1,)type'.\n",
      "  np_resource = np.dtype([(\"resource\", np.ubyte, 1)])\n",
      "/home/dongqi/.local/lib/python3.6/site-packages/tensorboard/compat/tensorflow_stub/dtypes.py:541: FutureWarning: Passing (type, 1) or '1type' as a synonym of type is deprecated; in a future version of numpy, it will be understood as (type, (1,)) / '(1,)type'.\n",
      "  _np_qint8 = np.dtype([(\"qint8\", np.int8, 1)])\n",
      "/home/dongqi/.local/lib/python3.6/site-packages/tensorboard/compat/tensorflow_stub/dtypes.py:542: FutureWarning: Passing (type, 1) or '1type' as a synonym of type is deprecated; in a future version of numpy, it will be understood as (type, (1,)) / '(1,)type'.\n",
      "  _np_quint8 = np.dtype([(\"quint8\", np.uint8, 1)])\n",
      "/home/dongqi/.local/lib/python3.6/site-packages/tensorboard/compat/tensorflow_stub/dtypes.py:543: FutureWarning: Passing (type, 1) or '1type' as a synonym of type is deprecated; in a future version of numpy, it will be understood as (type, (1,)) / '(1,)type'.\n",
      "  _np_qint16 = np.dtype([(\"qint16\", np.int16, 1)])\n",
      "/home/dongqi/.local/lib/python3.6/site-packages/tensorboard/compat/tensorflow_stub/dtypes.py:544: FutureWarning: Passing (type, 1) or '1type' as a synonym of type is deprecated; in a future version of numpy, it will be understood as (type, (1,)) / '(1,)type'.\n",
      "  _np_quint16 = np.dtype([(\"quint16\", np.uint16, 1)])\n",
      "/home/dongqi/.local/lib/python3.6/site-packages/tensorboard/compat/tensorflow_stub/dtypes.py:545: FutureWarning: Passing (type, 1) or '1type' as a synonym of type is deprecated; in a future version of numpy, it will be understood as (type, (1,)) / '(1,)type'.\n",
      "  _np_qint32 = np.dtype([(\"qint32\", np.int32, 1)])\n",
      "/home/dongqi/.local/lib/python3.6/site-packages/tensorboard/compat/tensorflow_stub/dtypes.py:550: FutureWarning: Passing (type, 1) or '1type' as a synonym of type is deprecated; in a future version of numpy, it will be understood as (type, (1,)) / '(1,)type'.\n",
      "  np_resource = np.dtype([(\"resource\", np.ubyte, 1)])\n"
     ]
    }
   ],
   "source": [
    "import numpy as np\n",
    "import pandas as pd\n",
    "import scipy.special\n",
    "import matplotlib.pyplot as plt\n",
    "import os\n",
    "import random\n",
    "from tensorflow.keras.utils import Sequence\n",
    "from tensorflow.keras.models import Sequential\n",
    "from tensorflow.keras.layers import Dense, Dropout, Flatten, LSTM, Embedding\n",
    "from tensorflow.keras.optimizers import RMSprop,Adam\n",
    "from tensorflow.keras import backend as K\n",
    "from sklearn.model_selection import train_test_split\n",
    "from sklearn.impute import SimpleImputer\n",
    "from sklearn.preprocessing import MinMaxScaler\n",
    "import warnings\n",
    "warnings.filterwarnings(\"ignore\")"
   ]
  },
  {
   "cell_type": "markdown",
   "metadata": {},
   "source": [
    "# Data Collection"
   ]
  },
  {
   "cell_type": "code",
   "execution_count": 2,
   "metadata": {},
   "outputs": [],
   "source": [
    "train_data = pd.read_csv('train.csv', parse_dates=['timestamp'])\n",
    "train_weather = pd.read_csv('weather_train.csv', parse_dates=['timestamp'])\n",
    "building_data = pd.read_csv('building_metadata.csv')"
   ]
  },
  {
   "cell_type": "markdown",
   "metadata": {},
   "source": [
    "## Reduce Memory Usage"
   ]
  },
  {
   "cell_type": "code",
   "execution_count": 3,
   "metadata": {},
   "outputs": [],
   "source": [
    "def reduce_mem_usage(df, verbose=True):\n",
    "    numerics = ['int16', 'int32', 'int64', 'float16', 'float32', 'float64']\n",
    "    start_mem = df.memory_usage().sum() / 1024**2    \n",
    "    for col in df.columns:\n",
    "        col_type = df[col].dtypes\n",
    "        if col_type in numerics:\n",
    "            c_min = df[col].min()\n",
    "            c_max = df[col].max()\n",
    "            if str(col_type)[:3] == 'int':\n",
    "                if c_min > np.iinfo(np.int8).min and c_max < np.iinfo(np.int8).max:\n",
    "                    df[col] = df[col].astype(np.int8)\n",
    "                elif c_min > np.iinfo(np.int16).min and c_max < np.iinfo(np.int16).max:\n",
    "                    df[col] = df[col].astype(np.int16)\n",
    "                elif c_min > np.iinfo(np.int32).min and c_max < np.iinfo(np.int32).max:\n",
    "                    df[col] = df[col].astype(np.int32)\n",
    "                elif c_min > np.iinfo(np.int64).min and c_max < np.iinfo(np.int64).max:\n",
    "                    df[col] = df[col].astype(np.int64)  \n",
    "            else:\n",
    "                if c_min > np.finfo(np.float16).min and c_max < np.finfo(np.float16).max:\n",
    "                    df[col] = df[col].astype(np.float16)\n",
    "                elif c_min > np.finfo(np.float32).min and c_max < np.finfo(np.float32).max:\n",
    "                    df[col] = df[col].astype(np.float32)\n",
    "                else:\n",
    "                    df[col] = df[col].astype(np.float64)    \n",
    "    end_mem = df.memory_usage().sum() / 1024**2\n",
    "    if verbose: print('Mem. usage decreased to {:5.2f} Mb ({:.1f}% reduction)'.format(end_mem, 100 * (start_mem - end_mem) / start_mem))\n",
    "    return df"
   ]
  },
  {
   "cell_type": "code",
   "execution_count": 4,
   "metadata": {},
   "outputs": [
    {
     "name": "stdout",
     "output_type": "stream",
     "text": [
      "Mem. usage decreased to 289.19 Mb (53.1% reduction)\n",
      "Mem. usage decreased to  3.07 Mb (68.1% reduction)\n",
      "Mem. usage decreased to  0.03 Mb (60.3% reduction)\n"
     ]
    }
   ],
   "source": [
    "train_data = reduce_mem_usage(train_data)\n",
    "train_weather = reduce_mem_usage(train_weather)\n",
    "building_data = reduce_mem_usage(building_data)"
   ]
  },
  {
   "cell_type": "code",
   "execution_count": 5,
   "metadata": {},
   "outputs": [],
   "source": [
    "def plot_bar(data, name):\n",
    "    fig = plt.figure(figsize=(16, 9))\n",
    "    ax = fig.add_subplot(111)\n",
    "    data_label = data[name].value_counts()\n",
    "    dict_train = dict(zip(data_label.keys(), ((data_label.sort_index())).tolist()))\n",
    "    names = list(dict_train.keys())\n",
    "    values = list(dict_train.values())\n",
    "    plt.bar(names, values)\n",
    "    ax.set_xticklabels(names, rotation=45)\n",
    "    plt.grid()\n",
    "    plt.show()"
   ]
  },
  {
   "cell_type": "markdown",
   "metadata": {},
   "source": [
    "# MISSING VALUE Pre-Process"
   ]
  },
  {
   "cell_type": "code",
   "execution_count": 6,
   "metadata": {},
   "outputs": [],
   "source": [
    "cols_with_missing_train_weather = [col for col in train_weather.columns if train_weather[col].isnull().any()]\n",
    "cols_with_missing_building = [col for col in building_data.columns if building_data[col].isnull().any()]"
   ]
  },
  {
   "cell_type": "code",
   "execution_count": 7,
   "metadata": {},
   "outputs": [
    {
     "name": "stdout",
     "output_type": "stream",
     "text": [
      "['air_temperature', 'cloud_coverage', 'dew_temperature', 'precip_depth_1_hr', 'sea_level_pressure', 'wind_direction', 'wind_speed']\n",
      "['year_built', 'floor_count']\n"
     ]
    }
   ],
   "source": [
    "print(cols_with_missing_train_weather)\n",
    "print(cols_with_missing_building)"
   ]
  },
  {
   "cell_type": "code",
   "execution_count": 8,
   "metadata": {},
   "outputs": [
    {
     "data": {
      "text/html": [
       "<div>\n",
       "<style scoped>\n",
       "    .dataframe tbody tr th:only-of-type {\n",
       "        vertical-align: middle;\n",
       "    }\n",
       "\n",
       "    .dataframe tbody tr th {\n",
       "        vertical-align: top;\n",
       "    }\n",
       "\n",
       "    .dataframe thead th {\n",
       "        text-align: right;\n",
       "    }\n",
       "</style>\n",
       "<table border=\"1\" class=\"dataframe\">\n",
       "  <thead>\n",
       "    <tr style=\"text-align: right;\">\n",
       "      <th></th>\n",
       "      <th>site_id</th>\n",
       "      <th>timestamp</th>\n",
       "      <th>air_temperature</th>\n",
       "      <th>cloud_coverage</th>\n",
       "      <th>dew_temperature</th>\n",
       "      <th>precip_depth_1_hr</th>\n",
       "      <th>sea_level_pressure</th>\n",
       "      <th>wind_direction</th>\n",
       "      <th>wind_speed</th>\n",
       "    </tr>\n",
       "  </thead>\n",
       "  <tbody>\n",
       "    <tr>\n",
       "      <th>0</th>\n",
       "      <td>0</td>\n",
       "      <td>2016-01-01 00:00:00</td>\n",
       "      <td>25.000000</td>\n",
       "      <td>6.0</td>\n",
       "      <td>20.000000</td>\n",
       "      <td>NaN</td>\n",
       "      <td>1019.5</td>\n",
       "      <td>0.0</td>\n",
       "      <td>0.000000</td>\n",
       "    </tr>\n",
       "    <tr>\n",
       "      <th>1</th>\n",
       "      <td>0</td>\n",
       "      <td>2016-01-01 01:00:00</td>\n",
       "      <td>24.406250</td>\n",
       "      <td>NaN</td>\n",
       "      <td>21.093750</td>\n",
       "      <td>-1.0</td>\n",
       "      <td>1020.0</td>\n",
       "      <td>70.0</td>\n",
       "      <td>1.500000</td>\n",
       "    </tr>\n",
       "    <tr>\n",
       "      <th>2</th>\n",
       "      <td>0</td>\n",
       "      <td>2016-01-01 02:00:00</td>\n",
       "      <td>22.796875</td>\n",
       "      <td>2.0</td>\n",
       "      <td>21.093750</td>\n",
       "      <td>0.0</td>\n",
       "      <td>1020.0</td>\n",
       "      <td>0.0</td>\n",
       "      <td>0.000000</td>\n",
       "    </tr>\n",
       "    <tr>\n",
       "      <th>3</th>\n",
       "      <td>0</td>\n",
       "      <td>2016-01-01 03:00:00</td>\n",
       "      <td>21.093750</td>\n",
       "      <td>2.0</td>\n",
       "      <td>20.593750</td>\n",
       "      <td>0.0</td>\n",
       "      <td>1020.0</td>\n",
       "      <td>0.0</td>\n",
       "      <td>0.000000</td>\n",
       "    </tr>\n",
       "    <tr>\n",
       "      <th>4</th>\n",
       "      <td>0</td>\n",
       "      <td>2016-01-01 04:00:00</td>\n",
       "      <td>20.000000</td>\n",
       "      <td>2.0</td>\n",
       "      <td>20.000000</td>\n",
       "      <td>-1.0</td>\n",
       "      <td>1020.0</td>\n",
       "      <td>250.0</td>\n",
       "      <td>2.599609</td>\n",
       "    </tr>\n",
       "    <tr>\n",
       "      <th>...</th>\n",
       "      <td>...</td>\n",
       "      <td>...</td>\n",
       "      <td>...</td>\n",
       "      <td>...</td>\n",
       "      <td>...</td>\n",
       "      <td>...</td>\n",
       "      <td>...</td>\n",
       "      <td>...</td>\n",
       "      <td>...</td>\n",
       "    </tr>\n",
       "    <tr>\n",
       "      <th>139768</th>\n",
       "      <td>15</td>\n",
       "      <td>2016-12-31 19:00:00</td>\n",
       "      <td>3.000000</td>\n",
       "      <td>NaN</td>\n",
       "      <td>-8.000000</td>\n",
       "      <td>NaN</td>\n",
       "      <td>NaN</td>\n",
       "      <td>180.0</td>\n",
       "      <td>5.699219</td>\n",
       "    </tr>\n",
       "    <tr>\n",
       "      <th>139769</th>\n",
       "      <td>15</td>\n",
       "      <td>2016-12-31 20:00:00</td>\n",
       "      <td>2.800781</td>\n",
       "      <td>2.0</td>\n",
       "      <td>-8.898438</td>\n",
       "      <td>NaN</td>\n",
       "      <td>1007.5</td>\n",
       "      <td>180.0</td>\n",
       "      <td>7.699219</td>\n",
       "    </tr>\n",
       "    <tr>\n",
       "      <th>139770</th>\n",
       "      <td>15</td>\n",
       "      <td>2016-12-31 21:00:00</td>\n",
       "      <td>2.800781</td>\n",
       "      <td>NaN</td>\n",
       "      <td>-7.199219</td>\n",
       "      <td>NaN</td>\n",
       "      <td>1007.5</td>\n",
       "      <td>180.0</td>\n",
       "      <td>5.101562</td>\n",
       "    </tr>\n",
       "    <tr>\n",
       "      <th>139771</th>\n",
       "      <td>15</td>\n",
       "      <td>2016-12-31 22:00:00</td>\n",
       "      <td>2.199219</td>\n",
       "      <td>NaN</td>\n",
       "      <td>-6.699219</td>\n",
       "      <td>NaN</td>\n",
       "      <td>1008.0</td>\n",
       "      <td>170.0</td>\n",
       "      <td>4.601562</td>\n",
       "    </tr>\n",
       "    <tr>\n",
       "      <th>139772</th>\n",
       "      <td>15</td>\n",
       "      <td>2016-12-31 23:00:00</td>\n",
       "      <td>1.700195</td>\n",
       "      <td>NaN</td>\n",
       "      <td>-5.601562</td>\n",
       "      <td>-1.0</td>\n",
       "      <td>1008.5</td>\n",
       "      <td>180.0</td>\n",
       "      <td>8.796875</td>\n",
       "    </tr>\n",
       "  </tbody>\n",
       "</table>\n",
       "<p>139773 rows × 9 columns</p>\n",
       "</div>"
      ],
      "text/plain": [
       "        site_id           timestamp  air_temperature  cloud_coverage  \\\n",
       "0             0 2016-01-01 00:00:00        25.000000             6.0   \n",
       "1             0 2016-01-01 01:00:00        24.406250             NaN   \n",
       "2             0 2016-01-01 02:00:00        22.796875             2.0   \n",
       "3             0 2016-01-01 03:00:00        21.093750             2.0   \n",
       "4             0 2016-01-01 04:00:00        20.000000             2.0   \n",
       "...         ...                 ...              ...             ...   \n",
       "139768       15 2016-12-31 19:00:00         3.000000             NaN   \n",
       "139769       15 2016-12-31 20:00:00         2.800781             2.0   \n",
       "139770       15 2016-12-31 21:00:00         2.800781             NaN   \n",
       "139771       15 2016-12-31 22:00:00         2.199219             NaN   \n",
       "139772       15 2016-12-31 23:00:00         1.700195             NaN   \n",
       "\n",
       "        dew_temperature  precip_depth_1_hr  sea_level_pressure  \\\n",
       "0             20.000000                NaN              1019.5   \n",
       "1             21.093750               -1.0              1020.0   \n",
       "2             21.093750                0.0              1020.0   \n",
       "3             20.593750                0.0              1020.0   \n",
       "4             20.000000               -1.0              1020.0   \n",
       "...                 ...                ...                 ...   \n",
       "139768        -8.000000                NaN                 NaN   \n",
       "139769        -8.898438                NaN              1007.5   \n",
       "139770        -7.199219                NaN              1007.5   \n",
       "139771        -6.699219                NaN              1008.0   \n",
       "139772        -5.601562               -1.0              1008.5   \n",
       "\n",
       "        wind_direction  wind_speed  \n",
       "0                  0.0    0.000000  \n",
       "1                 70.0    1.500000  \n",
       "2                  0.0    0.000000  \n",
       "3                  0.0    0.000000  \n",
       "4                250.0    2.599609  \n",
       "...                ...         ...  \n",
       "139768           180.0    5.699219  \n",
       "139769           180.0    7.699219  \n",
       "139770           180.0    5.101562  \n",
       "139771           170.0    4.601562  \n",
       "139772           180.0    8.796875  \n",
       "\n",
       "[139773 rows x 9 columns]"
      ]
     },
     "execution_count": 8,
     "metadata": {},
     "output_type": "execute_result"
    }
   ],
   "source": [
    "train_weather"
   ]
  },
  {
   "cell_type": "code",
   "execution_count": 9,
   "metadata": {},
   "outputs": [
    {
     "data": {
      "text/html": [
       "<div>\n",
       "<style scoped>\n",
       "    .dataframe tbody tr th:only-of-type {\n",
       "        vertical-align: middle;\n",
       "    }\n",
       "\n",
       "    .dataframe tbody tr th {\n",
       "        vertical-align: top;\n",
       "    }\n",
       "\n",
       "    .dataframe thead th {\n",
       "        text-align: right;\n",
       "    }\n",
       "</style>\n",
       "<table border=\"1\" class=\"dataframe\">\n",
       "  <thead>\n",
       "    <tr style=\"text-align: right;\">\n",
       "      <th></th>\n",
       "      <th>site_id</th>\n",
       "      <th>building_id</th>\n",
       "      <th>primary_use</th>\n",
       "      <th>square_feet</th>\n",
       "      <th>year_built</th>\n",
       "      <th>floor_count</th>\n",
       "    </tr>\n",
       "  </thead>\n",
       "  <tbody>\n",
       "    <tr>\n",
       "      <th>0</th>\n",
       "      <td>0</td>\n",
       "      <td>0</td>\n",
       "      <td>Education</td>\n",
       "      <td>7432</td>\n",
       "      <td>2008.0</td>\n",
       "      <td>NaN</td>\n",
       "    </tr>\n",
       "    <tr>\n",
       "      <th>1</th>\n",
       "      <td>0</td>\n",
       "      <td>1</td>\n",
       "      <td>Education</td>\n",
       "      <td>2720</td>\n",
       "      <td>2004.0</td>\n",
       "      <td>NaN</td>\n",
       "    </tr>\n",
       "    <tr>\n",
       "      <th>2</th>\n",
       "      <td>0</td>\n",
       "      <td>2</td>\n",
       "      <td>Education</td>\n",
       "      <td>5376</td>\n",
       "      <td>1991.0</td>\n",
       "      <td>NaN</td>\n",
       "    </tr>\n",
       "    <tr>\n",
       "      <th>3</th>\n",
       "      <td>0</td>\n",
       "      <td>3</td>\n",
       "      <td>Education</td>\n",
       "      <td>23685</td>\n",
       "      <td>2002.0</td>\n",
       "      <td>NaN</td>\n",
       "    </tr>\n",
       "    <tr>\n",
       "      <th>4</th>\n",
       "      <td>0</td>\n",
       "      <td>4</td>\n",
       "      <td>Education</td>\n",
       "      <td>116607</td>\n",
       "      <td>1975.0</td>\n",
       "      <td>NaN</td>\n",
       "    </tr>\n",
       "    <tr>\n",
       "      <th>...</th>\n",
       "      <td>...</td>\n",
       "      <td>...</td>\n",
       "      <td>...</td>\n",
       "      <td>...</td>\n",
       "      <td>...</td>\n",
       "      <td>...</td>\n",
       "    </tr>\n",
       "    <tr>\n",
       "      <th>1444</th>\n",
       "      <td>15</td>\n",
       "      <td>1444</td>\n",
       "      <td>Entertainment/public assembly</td>\n",
       "      <td>19619</td>\n",
       "      <td>1914.0</td>\n",
       "      <td>NaN</td>\n",
       "    </tr>\n",
       "    <tr>\n",
       "      <th>1445</th>\n",
       "      <td>15</td>\n",
       "      <td>1445</td>\n",
       "      <td>Education</td>\n",
       "      <td>4298</td>\n",
       "      <td>NaN</td>\n",
       "      <td>NaN</td>\n",
       "    </tr>\n",
       "    <tr>\n",
       "      <th>1446</th>\n",
       "      <td>15</td>\n",
       "      <td>1446</td>\n",
       "      <td>Entertainment/public assembly</td>\n",
       "      <td>11265</td>\n",
       "      <td>1997.0</td>\n",
       "      <td>NaN</td>\n",
       "    </tr>\n",
       "    <tr>\n",
       "      <th>1447</th>\n",
       "      <td>15</td>\n",
       "      <td>1447</td>\n",
       "      <td>Lodging/residential</td>\n",
       "      <td>29775</td>\n",
       "      <td>2001.0</td>\n",
       "      <td>NaN</td>\n",
       "    </tr>\n",
       "    <tr>\n",
       "      <th>1448</th>\n",
       "      <td>15</td>\n",
       "      <td>1448</td>\n",
       "      <td>Office</td>\n",
       "      <td>92271</td>\n",
       "      <td>2001.0</td>\n",
       "      <td>NaN</td>\n",
       "    </tr>\n",
       "  </tbody>\n",
       "</table>\n",
       "<p>1449 rows × 6 columns</p>\n",
       "</div>"
      ],
      "text/plain": [
       "      site_id  building_id                    primary_use  square_feet  \\\n",
       "0           0            0                      Education         7432   \n",
       "1           0            1                      Education         2720   \n",
       "2           0            2                      Education         5376   \n",
       "3           0            3                      Education        23685   \n",
       "4           0            4                      Education       116607   \n",
       "...       ...          ...                            ...          ...   \n",
       "1444       15         1444  Entertainment/public assembly        19619   \n",
       "1445       15         1445                      Education         4298   \n",
       "1446       15         1446  Entertainment/public assembly        11265   \n",
       "1447       15         1447            Lodging/residential        29775   \n",
       "1448       15         1448                         Office        92271   \n",
       "\n",
       "      year_built  floor_count  \n",
       "0         2008.0          NaN  \n",
       "1         2004.0          NaN  \n",
       "2         1991.0          NaN  \n",
       "3         2002.0          NaN  \n",
       "4         1975.0          NaN  \n",
       "...          ...          ...  \n",
       "1444      1914.0          NaN  \n",
       "1445         NaN          NaN  \n",
       "1446      1997.0          NaN  \n",
       "1447      2001.0          NaN  \n",
       "1448      2001.0          NaN  \n",
       "\n",
       "[1449 rows x 6 columns]"
      ]
     },
     "execution_count": 9,
     "metadata": {},
     "output_type": "execute_result"
    }
   ],
   "source": [
    "building_data"
   ]
  },
  {
   "cell_type": "code",
   "execution_count": 10,
   "metadata": {},
   "outputs": [
    {
     "data": {
      "text/plain": [
       "site_id                   0\n",
       "timestamp                 0\n",
       "air_temperature          55\n",
       "cloud_coverage        69173\n",
       "dew_temperature         113\n",
       "precip_depth_1_hr     50289\n",
       "sea_level_pressure    10618\n",
       "wind_direction         6268\n",
       "wind_speed              304\n",
       "dtype: int64"
      ]
     },
     "execution_count": 10,
     "metadata": {},
     "output_type": "execute_result"
    }
   ],
   "source": [
    "train_weather.isnull().sum(axis=0)"
   ]
  },
  {
   "cell_type": "code",
   "execution_count": 11,
   "metadata": {},
   "outputs": [
    {
     "data": {
      "text/plain": [
       "site_id           0\n",
       "building_id       0\n",
       "primary_use       0\n",
       "square_feet       0\n",
       "year_built      774\n",
       "floor_count    1094\n",
       "dtype: int64"
      ]
     },
     "execution_count": 11,
     "metadata": {},
     "output_type": "execute_result"
    }
   ],
   "source": [
    "building_data.isnull().sum(axis=0)"
   ]
  },
  {
   "cell_type": "markdown",
   "metadata": {},
   "source": [
    "### Replace Missing Value with 'median'"
   ]
  },
  {
   "cell_type": "code",
   "execution_count": 13,
   "metadata": {},
   "outputs": [],
   "source": [
    "imp_most = SimpleImputer(strategy='median')\n",
    "train_weather[cols_with_missing_train_weather] = imp_most.fit_transform(train_weather[cols_with_missing_train_weather])\n",
    "building_data[cols_with_missing_building] = imp_most.fit_transform(building_data[cols_with_missing_building])"
   ]
  },
  {
   "cell_type": "markdown",
   "metadata": {},
   "source": [
    "# Data Cleaning"
   ]
  },
  {
   "cell_type": "code",
   "execution_count": 14,
   "metadata": {},
   "outputs": [],
   "source": [
    "train_data['meter_reading'] = np.log1p(train_data['meter_reading'])"
   ]
  },
  {
   "cell_type": "code",
   "execution_count": 15,
   "metadata": {},
   "outputs": [],
   "source": [
    "train_data['month'] = train_data['timestamp'].dt.month\n",
    "train_data['day'] = train_data['timestamp'].dt.weekday\n",
    "train_data['year'] = train_data['timestamp'].dt.year\n",
    "train_data['hour'] = train_data['timestamp'].dt.hour"
   ]
  },
  {
   "cell_type": "code",
   "execution_count": 16,
   "metadata": {},
   "outputs": [],
   "source": [
    "train_data['weekend'] = np.where((train_data['day'] == 5) | (train_data['day'] == 6), 1, 0)"
   ]
  },
  {
   "cell_type": "code",
   "execution_count": 17,
   "metadata": {},
   "outputs": [],
   "source": [
    "train_weather['wind_direction'+'_sin'] = np.sin((2*np.pi*train_weather['wind_direction'])/360)\n",
    "train_weather['wind_direction'+'_cos'] = np.cos((2*np.pi*train_weather['wind_direction'])/360)\n",
    "train_weather = train_weather.drop(['wind_direction'], axis=1)"
   ]
  },
  {
   "cell_type": "code",
   "execution_count": 18,
   "metadata": {},
   "outputs": [],
   "source": [
    "train_data = pd.get_dummies(train_data, columns=['meter'])"
   ]
  },
  {
   "cell_type": "code",
   "execution_count": 19,
   "metadata": {},
   "outputs": [],
   "source": [
    "features_cyc = {'month' : 12, 'day' : 7, 'hour' : 24}\n",
    "for feature in features_cyc.keys():\n",
    "    train_data[feature+'_sin'] = np.sin((2*np.pi*train_data[feature])/features_cyc[feature])\n",
    "    train_data[feature+'_cos'] = np.cos((2*np.pi*train_data[feature])/features_cyc[feature])\n",
    "train_data = train_data.drop(features_cyc.keys(), axis=1)"
   ]
  },
  {
   "cell_type": "code",
   "execution_count": 20,
   "metadata": {},
   "outputs": [
    {
     "data": {
      "image/png": "[encoded data removed]",
      "text/plain": [
       "<Figure size 1152x648 with 1 Axes>"
      ]
     },
     "metadata": {
      "needs_background": "light"
     },
     "output_type": "display_data"
    }
   ],
   "source": [
    "plot_bar(building_data, 'primary_use')"
   ]
  },
  {
   "cell_type": "code",
   "execution_count": 21,
   "metadata": {},
   "outputs": [],
   "source": [
    "map_use = dict(zip(building_data['primary_use'].value_counts().sort_index().keys(),\n",
    "                     range(1, len(building_data['primary_use'].value_counts())+1)))\n"
   ]
  },
  {
   "cell_type": "code",
   "execution_count": 22,
   "metadata": {},
   "outputs": [
    {
     "data": {
      "text/plain": [
       "{'Education': 1,\n",
       " 'Entertainment/public assembly': 2,\n",
       " 'Food sales and service': 3,\n",
       " 'Healthcare': 4,\n",
       " 'Lodging/residential': 5,\n",
       " 'Manufacturing/industrial': 6,\n",
       " 'Office': 7,\n",
       " 'Other': 8,\n",
       " 'Parking': 9,\n",
       " 'Public services': 10,\n",
       " 'Religious worship': 11,\n",
       " 'Retail': 12,\n",
       " 'Services': 13,\n",
       " 'Technology/science': 14,\n",
       " 'Utility': 15,\n",
       " 'Warehouse/storage': 16}"
      ]
     },
     "execution_count": 22,
     "metadata": {},
     "output_type": "execute_result"
    }
   ],
   "source": [
    "map_use"
   ]
  },
  {
   "cell_type": "code",
   "execution_count": 23,
   "metadata": {},
   "outputs": [],
   "source": [
    "building_data['primary_use'] = building_data['primary_use'].replace(map_use)"
   ]
  },
  {
   "cell_type": "code",
   "execution_count": 24,
   "metadata": {},
   "outputs": [],
   "source": [
    "# weather_scale = ['air_temperature', 'cloud_coverage', 'dew_temperature', 'sea_level_pressure', 'wind_speed']\n",
    "weather_scale = ['air_temperature', 'dew_temperature', 'wind_speed']"
   ]
  },
  {
   "cell_type": "code",
   "execution_count": 25,
   "metadata": {},
   "outputs": [],
   "source": [
    "mean = train_weather[weather_scale].mean(axis=0)\n",
    "train_weather[weather_scale] = train_weather[weather_scale].astype('float32')\n",
    "train_weather[weather_scale] -= train_weather[weather_scale].mean(axis=0)\n",
    "std = train_weather[weather_scale].std(axis=0)\n",
    "train_weather[weather_scale] /= train_weather[weather_scale].std(axis=0)"
   ]
  },
  {
   "cell_type": "code",
   "execution_count": 26,
   "metadata": {},
   "outputs": [],
   "source": [
    "#building_scale = ['square_feet', 'year_built', 'floor_count']\n",
    "building_scale = ['square_feet']"
   ]
  },
  {
   "cell_type": "code",
   "execution_count": 27,
   "metadata": {},
   "outputs": [],
   "source": [
    "mean = building_data[building_scale].mean(axis=0)\n",
    "building_data[building_scale] = building_data[building_scale].astype('float32')\n",
    "building_data[building_scale] -= building_data[building_scale].mean(axis=0)\n",
    "std = building_data[building_scale].std(axis=0)\n",
    "building_data[building_scale] /= building_data[building_scale].std(axis=0)"
   ]
  },
  {
   "cell_type": "code",
   "execution_count": 28,
   "metadata": {
    "scrolled": true
   },
   "outputs": [
    {
     "data": {
      "text/html": [
       "<div>\n",
       "<style scoped>\n",
       "    .dataframe tbody tr th:only-of-type {\n",
       "        vertical-align: middle;\n",
       "    }\n",
       "\n",
       "    .dataframe tbody tr th {\n",
       "        vertical-align: top;\n",
       "    }\n",
       "\n",
       "    .dataframe thead th {\n",
       "        text-align: right;\n",
       "    }\n",
       "</style>\n",
       "<table border=\"1\" class=\"dataframe\">\n",
       "  <thead>\n",
       "    <tr style=\"text-align: right;\">\n",
       "      <th></th>\n",
       "      <th>site_id</th>\n",
       "      <th>timestamp</th>\n",
       "      <th>air_temperature</th>\n",
       "      <th>cloud_coverage</th>\n",
       "      <th>dew_temperature</th>\n",
       "      <th>precip_depth_1_hr</th>\n",
       "      <th>sea_level_pressure</th>\n",
       "      <th>wind_speed</th>\n",
       "      <th>wind_direction_sin</th>\n",
       "      <th>wind_direction_cos</th>\n",
       "    </tr>\n",
       "  </thead>\n",
       "  <tbody>\n",
       "    <tr>\n",
       "      <th>0</th>\n",
       "      <td>0</td>\n",
       "      <td>2016-01-01 00:00:00</td>\n",
       "      <td>0.995966</td>\n",
       "      <td>6.0</td>\n",
       "      <td>1.292541</td>\n",
       "      <td>0.0</td>\n",
       "      <td>1019.5</td>\n",
       "      <td>-1.524392</td>\n",
       "      <td>0.000000e+00</td>\n",
       "      <td>1.000000</td>\n",
       "    </tr>\n",
       "    <tr>\n",
       "      <th>1</th>\n",
       "      <td>0</td>\n",
       "      <td>2016-01-01 01:00:00</td>\n",
       "      <td>0.940082</td>\n",
       "      <td>2.0</td>\n",
       "      <td>1.404305</td>\n",
       "      <td>-1.0</td>\n",
       "      <td>1020.0</td>\n",
       "      <td>-0.881537</td>\n",
       "      <td>9.396926e-01</td>\n",
       "      <td>0.342020</td>\n",
       "    </tr>\n",
       "    <tr>\n",
       "      <th>2</th>\n",
       "      <td>0</td>\n",
       "      <td>2016-01-01 02:00:00</td>\n",
       "      <td>0.788605</td>\n",
       "      <td>2.0</td>\n",
       "      <td>1.404305</td>\n",
       "      <td>0.0</td>\n",
       "      <td>1020.0</td>\n",
       "      <td>-1.524392</td>\n",
       "      <td>0.000000e+00</td>\n",
       "      <td>1.000000</td>\n",
       "    </tr>\n",
       "    <tr>\n",
       "      <th>3</th>\n",
       "      <td>0</td>\n",
       "      <td>2016-01-01 03:00:00</td>\n",
       "      <td>0.628305</td>\n",
       "      <td>2.0</td>\n",
       "      <td>1.353213</td>\n",
       "      <td>0.0</td>\n",
       "      <td>1020.0</td>\n",
       "      <td>-1.524392</td>\n",
       "      <td>0.000000e+00</td>\n",
       "      <td>1.000000</td>\n",
       "    </tr>\n",
       "    <tr>\n",
       "      <th>4</th>\n",
       "      <td>0</td>\n",
       "      <td>2016-01-01 04:00:00</td>\n",
       "      <td>0.525360</td>\n",
       "      <td>2.0</td>\n",
       "      <td>1.292541</td>\n",
       "      <td>-1.0</td>\n",
       "      <td>1020.0</td>\n",
       "      <td>-0.410277</td>\n",
       "      <td>-9.396926e-01</td>\n",
       "      <td>-0.342020</td>\n",
       "    </tr>\n",
       "    <tr>\n",
       "      <th>...</th>\n",
       "      <td>...</td>\n",
       "      <td>...</td>\n",
       "      <td>...</td>\n",
       "      <td>...</td>\n",
       "      <td>...</td>\n",
       "      <td>...</td>\n",
       "      <td>...</td>\n",
       "      <td>...</td>\n",
       "      <td>...</td>\n",
       "      <td>...</td>\n",
       "    </tr>\n",
       "    <tr>\n",
       "      <th>139768</th>\n",
       "      <td>15</td>\n",
       "      <td>2016-12-31 19:00:00</td>\n",
       "      <td>-1.074703</td>\n",
       "      <td>2.0</td>\n",
       "      <td>-1.568603</td>\n",
       "      <td>0.0</td>\n",
       "      <td>1016.5</td>\n",
       "      <td>0.918121</td>\n",
       "      <td>1.224647e-16</td>\n",
       "      <td>-1.000000</td>\n",
       "    </tr>\n",
       "    <tr>\n",
       "      <th>139769</th>\n",
       "      <td>15</td>\n",
       "      <td>2016-12-31 20:00:00</td>\n",
       "      <td>-1.093454</td>\n",
       "      <td>2.0</td>\n",
       "      <td>-1.660409</td>\n",
       "      <td>0.0</td>\n",
       "      <td>1007.5</td>\n",
       "      <td>1.775261</td>\n",
       "      <td>1.224647e-16</td>\n",
       "      <td>-1.000000</td>\n",
       "    </tr>\n",
       "    <tr>\n",
       "      <th>139770</th>\n",
       "      <td>15</td>\n",
       "      <td>2016-12-31 21:00:00</td>\n",
       "      <td>-1.093454</td>\n",
       "      <td>2.0</td>\n",
       "      <td>-1.486776</td>\n",
       "      <td>0.0</td>\n",
       "      <td>1007.5</td>\n",
       "      <td>0.661984</td>\n",
       "      <td>1.224647e-16</td>\n",
       "      <td>-1.000000</td>\n",
       "    </tr>\n",
       "    <tr>\n",
       "      <th>139771</th>\n",
       "      <td>15</td>\n",
       "      <td>2016-12-31 22:00:00</td>\n",
       "      <td>-1.150074</td>\n",
       "      <td>2.0</td>\n",
       "      <td>-1.435684</td>\n",
       "      <td>0.0</td>\n",
       "      <td>1008.0</td>\n",
       "      <td>0.447699</td>\n",
       "      <td>1.736482e-01</td>\n",
       "      <td>-0.984808</td>\n",
       "    </tr>\n",
       "    <tr>\n",
       "      <th>139772</th>\n",
       "      <td>15</td>\n",
       "      <td>2016-12-31 23:00:00</td>\n",
       "      <td>-1.197042</td>\n",
       "      <td>2.0</td>\n",
       "      <td>-1.323522</td>\n",
       "      <td>-1.0</td>\n",
       "      <td>1008.5</td>\n",
       "      <td>2.245683</td>\n",
       "      <td>1.224647e-16</td>\n",
       "      <td>-1.000000</td>\n",
       "    </tr>\n",
       "  </tbody>\n",
       "</table>\n",
       "<p>139773 rows × 10 columns</p>\n",
       "</div>"
      ],
      "text/plain": [
       "        site_id           timestamp  air_temperature  cloud_coverage  \\\n",
       "0             0 2016-01-01 00:00:00         0.995966             6.0   \n",
       "1             0 2016-01-01 01:00:00         0.940082             2.0   \n",
       "2             0 2016-01-01 02:00:00         0.788605             2.0   \n",
       "3             0 2016-01-01 03:00:00         0.628305             2.0   \n",
       "4             0 2016-01-01 04:00:00         0.525360             2.0   \n",
       "...         ...                 ...              ...             ...   \n",
       "139768       15 2016-12-31 19:00:00        -1.074703             2.0   \n",
       "139769       15 2016-12-31 20:00:00        -1.093454             2.0   \n",
       "139770       15 2016-12-31 21:00:00        -1.093454             2.0   \n",
       "139771       15 2016-12-31 22:00:00        -1.150074             2.0   \n",
       "139772       15 2016-12-31 23:00:00        -1.197042             2.0   \n",
       "\n",
       "        dew_temperature  precip_depth_1_hr  sea_level_pressure  wind_speed  \\\n",
       "0              1.292541                0.0              1019.5   -1.524392   \n",
       "1              1.404305               -1.0              1020.0   -0.881537   \n",
       "2              1.404305                0.0              1020.0   -1.524392   \n",
       "3              1.353213                0.0              1020.0   -1.524392   \n",
       "4              1.292541               -1.0              1020.0   -0.410277   \n",
       "...                 ...                ...                 ...         ...   \n",
       "139768        -1.568603                0.0              1016.5    0.918121   \n",
       "139769        -1.660409                0.0              1007.5    1.775261   \n",
       "139770        -1.486776                0.0              1007.5    0.661984   \n",
       "139771        -1.435684                0.0              1008.0    0.447699   \n",
       "139772        -1.323522               -1.0              1008.5    2.245683   \n",
       "\n",
       "        wind_direction_sin  wind_direction_cos  \n",
       "0             0.000000e+00            1.000000  \n",
       "1             9.396926e-01            0.342020  \n",
       "2             0.000000e+00            1.000000  \n",
       "3             0.000000e+00            1.000000  \n",
       "4            -9.396926e-01           -0.342020  \n",
       "...                    ...                 ...  \n",
       "139768        1.224647e-16           -1.000000  \n",
       "139769        1.224647e-16           -1.000000  \n",
       "139770        1.224647e-16           -1.000000  \n",
       "139771        1.736482e-01           -0.984808  \n",
       "139772        1.224647e-16           -1.000000  \n",
       "\n",
       "[139773 rows x 10 columns]"
      ]
     },
     "execution_count": 28,
     "metadata": {},
     "output_type": "execute_result"
    }
   ],
   "source": [
    "train_weather"
   ]
  },
  {
   "cell_type": "markdown",
   "metadata": {},
   "source": [
    "# Merge Datas"
   ]
  },
  {
   "cell_type": "code",
   "execution_count": 29,
   "metadata": {},
   "outputs": [],
   "source": [
    "train_data = pd.merge(train_data, building_data, on='building_id', right_index=True)\n",
    "train_data = train_data.sort_values(['timestamp'])\n",
    "train_data = pd.merge_asof(train_data, train_weather, on='timestamp', by='site_id', right_index=True)\n",
    "del train_weather"
   ]
  },
  {
   "cell_type": "markdown",
   "metadata": {},
   "source": [
    "# Data Generator"
   ]
  },
  {
   "cell_type": "code",
   "execution_count": 30,
   "metadata": {},
   "outputs": [],
   "source": [
    "class DataGenerator(Sequence):\n",
    "    \"\"\" A data generator based on the template\n",
    "        https://stanford.edu/~shervine/blog/keras-how-to-generate-data-on-the-fly\n",
    "        \"\"\"\n",
    "    \n",
    "    def __init__(self, data, list_IDs, features, batch_size, shuffle=False):\n",
    "        self.data = data.loc[list_IDs].copy()\n",
    "        self.list_IDs = list_IDs\n",
    "        self.features = features\n",
    "        self.batch_size = batch_size\n",
    "        self.shuffle = shuffle\n",
    "        self.on_epoch_end()\n",
    "    \n",
    "    \n",
    "    def __len__(self):\n",
    "        return int(np.floor(len(self.list_IDs)/self.batch_size))\n",
    "    \n",
    "    \n",
    "    def __getitem__(self, index):\n",
    "        indexes = self.indexes[index*self.batch_size:(index+1)*self.batch_size]\n",
    "        list_IDs_temp = [self.list_IDs[k] for k in indexes]\n",
    "        X, y = self.__data_generation(list_IDs_temp)\n",
    "        return X, y\n",
    "    \n",
    "    \n",
    "    def on_epoch_end(self):\n",
    "        self.indexes = np.arange(len(self.list_IDs))\n",
    "        if self.shuffle == True:\n",
    "            np.random.shuffle(self.indexes)\n",
    "\n",
    "        \n",
    "    def __data_generation(self, list_IDs_temp):        \n",
    "        X = np.empty((len(list_IDs_temp), len(self.features)), dtype=float)\n",
    "        y = np.empty((len(list_IDs_temp), 1), dtype=float)\n",
    "        X = self.data.loc[list_IDs_temp, self.features].values\n",
    "        \n",
    "        if 'meter_reading' in self.data.columns:\n",
    "            y = self.data.loc[list_IDs_temp, 'meter_reading'].values\n",
    "        # reshape\n",
    "        X = np.reshape(X, (X.shape[0], 1, X.shape[1]))\n",
    "        return X, y"
   ]
  },
  {
   "cell_type": "markdown",
   "metadata": {},
   "source": [
    "# Initial Model Development"
   ]
  },
  {
   "cell_type": "code",
   "execution_count": 31,
   "metadata": {},
   "outputs": [
    {
     "name": "stdout",
     "output_type": "stream",
     "text": [
      "19205295 1010805\n"
     ]
    }
   ],
   "source": [
    "train_size = int(len(train_data.index)*0.95)\n",
    "val_size = len(train_data.index) - train_size\n",
    "train_list, val_list = train_data.index[0:train_size], train_data.index[train_size:train_size+val_size]\n",
    "print(train_size, val_size)"
   ]
  },
  {
   "cell_type": "code",
   "execution_count": 32,
   "metadata": {},
   "outputs": [
    {
     "name": "stdout",
     "output_type": "stream",
     "text": [
      "building_id\n",
      "timestamp\n",
      "meter_reading\n",
      "year\n",
      "weekend\n",
      "meter_0\n",
      "meter_1\n",
      "meter_2\n",
      "meter_3\n",
      "month_sin\n",
      "month_cos\n",
      "day_sin\n",
      "day_cos\n",
      "hour_sin\n",
      "hour_cos\n",
      "site_id\n",
      "primary_use\n",
      "square_feet\n",
      "year_built\n",
      "floor_count\n",
      "air_temperature\n",
      "cloud_coverage\n",
      "dew_temperature\n",
      "precip_depth_1_hr\n",
      "sea_level_pressure\n",
      "wind_speed\n",
      "wind_direction_sin\n",
      "wind_direction_cos\n"
     ]
    }
   ],
   "source": [
    "for col in train_data.columns:\n",
    "    print(col)"
   ]
  },
  {
   "cell_type": "code",
   "execution_count": 33,
   "metadata": {},
   "outputs": [
    {
     "data": {
      "text/plain": [
       "20216100"
      ]
     },
     "execution_count": 33,
     "metadata": {},
     "output_type": "execute_result"
    }
   ],
   "source": [
    "len(train_data)"
   ]
  },
  {
   "cell_type": "code",
   "execution_count": 34,
   "metadata": {},
   "outputs": [],
   "source": [
    "no_features = ['building_id', 'timestamp', 'meter_reading', 'year','cloud_coverage','precip_depth_1_hr',\n",
    "               'sea_level_pressure','wind_direction_sin','wind_direction_cos','year_built','floor_count']\n",
    "#no_features = ['building_id', 'timestamp', 'meter_reading']\n",
    "features = train_data.columns.difference(no_features)"
   ]
  },
  {
   "cell_type": "code",
   "execution_count": 35,
   "metadata": {},
   "outputs": [
    {
     "data": {
      "text/plain": [
       "Index(['air_temperature', 'day_cos', 'day_sin', 'dew_temperature', 'hour_cos',\n",
       "       'hour_sin', 'meter_0', 'meter_1', 'meter_2', 'meter_3', 'month_cos',\n",
       "       'month_sin', 'primary_use', 'site_id', 'square_feet', 'weekend',\n",
       "       'wind_speed'],\n",
       "      dtype='object')"
      ]
     },
     "execution_count": 35,
     "metadata": {},
     "output_type": "execute_result"
    }
   ],
   "source": [
    "features"
   ]
  },
  {
   "cell_type": "code",
   "execution_count": 36,
   "metadata": {},
   "outputs": [],
   "source": [
    "batch_size = 1024\n",
    "train_generator = DataGenerator(train_data, train_list, features, batch_size)\n",
    "val_generator = DataGenerator(train_data, val_list, features, batch_size)"
   ]
  },
  {
   "cell_type": "code",
   "execution_count": 37,
   "metadata": {},
   "outputs": [
    {
     "name": "stdout",
     "output_type": "stream",
     "text": [
      "17\n"
     ]
    }
   ],
   "source": [
    "input_dim = len(features)\n",
    "print(input_dim)"
   ]
  },
  {
   "cell_type": "code",
   "execution_count": 38,
   "metadata": {},
   "outputs": [
    {
     "name": "stdout",
     "output_type": "stream",
     "text": [
      "WARNING:tensorflow:From /home/dongqi/.local/lib/python3.6/site-packages/tensorflow/python/ops/init_ops.py:1251: calling VarianceScaling.__init__ (from tensorflow.python.ops.init_ops) with dtype is deprecated and will be removed in a future version.\n",
      "Instructions for updating:\n",
      "Call initializer instance with the dtype argument instead of passing it to the constructor\n"
     ]
    }
   ],
   "source": [
    "model = Sequential()\n",
    "model.add(LSTM(units=128, activation = 'relu', input_shape=(1, input_dim)))\n",
    "model.add(Dropout(0.2))\n",
    "model.add(Dense(256, activation='relu'))\n",
    "model.add(Dense(128, activation='relu'))\n",
    "model.add(Dense(1, activation='relu'))"
   ]
  },
  {
   "cell_type": "code",
   "execution_count": 39,
   "metadata": {},
   "outputs": [],
   "source": [
    "def rmse(y_true, y_pred):\n",
    "    \"\"\" root_mean_squared_error \"\"\"\n",
    "    return K.sqrt(K.mean(K.square(y_pred - y_true)))"
   ]
  },
  {
   "cell_type": "code",
   "execution_count": 40,
   "metadata": {},
   "outputs": [],
   "source": [
    "model.compile(optimizer = Adam(lr=1e-2),\n",
    "              loss='mse',\n",
    "              metrics=[rmse])"
   ]
  },
  {
   "cell_type": "code",
   "execution_count": 41,
   "metadata": {
    "scrolled": true
   },
   "outputs": [
    {
     "name": "stdout",
     "output_type": "stream",
     "text": [
      "Model: \"sequential\"\n",
      "_________________________________________________________________\n",
      "Layer (type)                 Output Shape              Param #   \n",
      "=================================================================\n",
      "lstm (LSTM)                  (None, 128)               74752     \n",
      "_________________________________________________________________\n",
      "dropout (Dropout)            (None, 128)               0         \n",
      "_________________________________________________________________\n",
      "dense (Dense)                (None, 256)               33024     \n",
      "_________________________________________________________________\n",
      "dense_1 (Dense)              (None, 128)               32896     \n",
      "_________________________________________________________________\n",
      "dense_2 (Dense)              (None, 1)                 129       \n",
      "=================================================================\n",
      "Total params: 140,801\n",
      "Trainable params: 140,801\n",
      "Non-trainable params: 0\n",
      "_________________________________________________________________\n"
     ]
    }
   ],
   "source": [
    "model.summary()"
   ]
  },
  {
   "cell_type": "code",
   "execution_count": 42,
   "metadata": {},
   "outputs": [],
   "source": [
    "epochs = 5"
   ]
  },
  {
   "cell_type": "code",
   "execution_count": 43,
   "metadata": {
    "scrolled": true
   },
   "outputs": [
    {
     "name": "stdout",
     "output_type": "stream",
     "text": [
      "Epoch 1/5\n",
      "WARNING:tensorflow:From /home/dongqi/.local/lib/python3.6/site-packages/tensorflow/python/ops/math_grad.py:1250: add_dispatch_support.<locals>.wrapper (from tensorflow.python.ops.array_ops) is deprecated and will be removed in a future version.\n",
      "Instructions for updating:\n",
      "Use tf.where in 2.0, which has the same broadcast rule as np.where\n",
      "18755/18755 [==============================] - 5637s 301ms/step - loss: 2.1120 - rmse: 1.4413 - val_loss: 1.6548 - val_rmse: 1.2853\n",
      "Epoch 2/5\n",
      "18755/18755 [==============================] - 5620s 300ms/step - loss: 1.8359 - rmse: 1.3440 - val_loss: 1.5575 - val_rmse: 1.2466\n",
      "Epoch 3/5\n",
      "18755/18755 [==============================] - 5642s 301ms/step - loss: 1.7690 - rmse: 1.3189 - val_loss: 1.5490 - val_rmse: 1.2433\n",
      "Epoch 4/5\n",
      "18755/18755 [==============================] - 5645s 301ms/step - loss: 1.7272 - rmse: 1.3029 - val_loss: 1.5475 - val_rmse: 1.2424\n",
      "Epoch 5/5\n",
      "18755/18755 [==============================] - 5643s 301ms/step - loss: 1.6950 - rmse: 1.2905 - val_loss: 1.5352 - val_rmse: 1.2375\n"
     ]
    }
   ],
   "source": [
    "history = model.fit_generator(generator=train_generator,\n",
    "                              validation_data=val_generator,\n",
    "                              epochs = epochs)\n",
    "# history = model.fit_generator(generator=train_generator, epochs = epochs)"
   ]
  },
  {
   "cell_type": "markdown",
   "metadata": {},
   "source": [
    "# Model Performance"
   ]
  },
  {
   "cell_type": "code",
   "execution_count": 44,
   "metadata": {},
   "outputs": [
    {
     "data": {
      "image/png": "[encoded data removed]",
      "text/plain": [
       "<Figure size 432x288 with 1 Axes>"
      ]
     },
     "metadata": {
      "needs_background": "light"
     },
     "output_type": "display_data"
    }
   ],
   "source": [
    "# Analyse results\n",
    "# A short analysis of the train results.\n",
    "loss = history.history['loss']\n",
    "loss_val = history.history['val_loss']\n",
    "epochs = range(1, len(loss)+1)\n",
    "plt.plot(epochs, loss, 'bo', label='loss_train')\n",
    "plt.plot(epochs, loss_val, 'b', label='loss_val')\n",
    "plt.title('value of the loss function')\n",
    "plt.xlabel('epochs')\n",
    "plt.ylabel('value of the loss function')\n",
    "plt.legend()\n",
    "plt.grid()\n",
    "plt.show()"
   ]
  },
  {
   "cell_type": "code",
   "execution_count": 45,
   "metadata": {},
   "outputs": [
    {
     "data": {
      "image/png": "[encoded data removed]",
      "text/plain": [
       "<Figure size 432x288 with 1 Axes>"
      ]
     },
     "metadata": {
      "needs_background": "light"
     },
     "output_type": "display_data"
    }
   ],
   "source": [
    "acc = history.history['rmse']\n",
    "acc_val = history.history['val_rmse']\n",
    "epochs = range(1, len(loss)+1)\n",
    "plt.plot(epochs, acc, 'bo', label='accuracy_train')\n",
    "plt.plot(epochs, acc_val, 'b', label='accuracy_val')\n",
    "plt.title('accuracy')\n",
    "plt.xlabel('epochs')\n",
    "plt.ylabel('value of accuracy')\n",
    "plt.legend()\n",
    "plt.grid()\n",
    "plt.show()"
   ]
  },
  {
   "cell_type": "code",
   "execution_count": 46,
   "metadata": {},
   "outputs": [],
   "source": [
    "del train_data"
   ]
  },
  {
   "cell_type": "markdown",
   "metadata": {},
   "source": [
    "# Generate Output File"
   ]
  },
  {
   "cell_type": "code",
   "execution_count": 47,
   "metadata": {
    "scrolled": true
   },
   "outputs": [
    {
     "name": "stdout",
     "output_type": "stream",
     "text": [
      "work on step  1\n",
      "1632/1632 [==============================] - 62s 38ms/step\n",
      "work on step  2\n",
      "1632/1632 [==============================] - 63s 39ms/step\n",
      "work on step  3\n",
      "1632/1632 [==============================] - 61s 37ms/step\n",
      "work on step  4\n",
      "1632/1632 [==============================] - 59s 36ms/step\n",
      "work on step  5\n",
      "1632/1632 [==============================] - 59s 36ms/step\n",
      "work on step  6\n",
      "1632/1632 [==============================] - 65s 40ms/step\n",
      "work on step  7\n",
      "1632/1632 [==============================] - 69s 42ms/step\n",
      "work on step  8\n",
      "1632/1632 [==============================] - 69s 42ms/step\n",
      "work on step  9\n",
      "1632/1632 [==============================] - 66s 40ms/step\n",
      "work on step  10\n",
      "1632/1632 [==============================] - 57s 35ms/step\n",
      "work on step  11\n",
      "1632/1632 [==============================] - 54s 33ms/step\n",
      "work on step  12\n",
      "1632/1632 [==============================] - 55s 34ms/step\n",
      "work on step  13\n",
      "1632/1632 [==============================] - 56s 34ms/step\n",
      "work on step  14\n",
      "1632/1632 [==============================] - 57s 35ms/step\n",
      "work on step  15\n",
      "1632/1632 [==============================] - 54s 33ms/step\n",
      "work on step  16\n",
      "1632/1632 [==============================] - 54s 33ms/step\n",
      "work on step  17\n",
      "1632/1632 [==============================] - 54s 33ms/step\n",
      "work on step  18\n",
      "1632/1632 [==============================] - 60s 37ms/step\n",
      "work on step  19\n",
      "1632/1632 [==============================] - 58s 36ms/step\n",
      "work on step  20\n",
      "1632/1632 [==============================] - 53s 32ms/step\n",
      "work on step  21\n",
      "1632/1632 [==============================] - 56s 34ms/step\n",
      "work on step  22\n",
      "1632/1632 [==============================] - 56s 34ms/step\n",
      "work on step  23\n",
      "1632/1632 [==============================] - 59s 36ms/step\n",
      "work on step  24\n",
      "1632/1632 [==============================] - 55s 34ms/step\n",
      "work on step  25\n",
      "1632/1632 [==============================] - 58s 35ms/step\n"
     ]
    }
   ],
   "source": [
    "# Predict test data\n",
    "# We following the steps above to prepare the data\n",
    "# Build data generator\n",
    "# Predict subdate\n",
    "# Write data in an array\n",
    "nrows = 1667904\n",
    "batch_size = 1022\n",
    "steps = 25\n",
    "y_test = np.empty(())\n",
    "test_weather = pd.read_csv('weather_test.csv', parse_dates=['timestamp'])\n",
    "cols_with_missing_test_weather = [col for col in test_weather.columns if test_weather[col].isnull().any()]\n",
    "test_weather[cols_with_missing_test_weather] = imp_most.fit_transform(test_weather[cols_with_missing_test_weather])\n",
    "\n",
    "mean = test_weather[weather_scale].mean(axis=0)\n",
    "test_weather[weather_scale] = test_weather[weather_scale].astype('float32')\n",
    "test_weather[weather_scale] -= test_weather[weather_scale].mean(axis=0)\n",
    "std = test_weather[weather_scale].std(axis=0)\n",
    "test_weather[weather_scale] /= test_weather[weather_scale].std(axis=0)\n",
    "\n",
    "test_weather['wind_direction'+'_sin'] = np.sin((2*np.pi*test_weather['wind_direction'])/360)\n",
    "test_weather['wind_direction'+'_cos'] = np.cos((2*np.pi*test_weather['wind_direction'])/360)\n",
    "test_weather = test_weather.drop(['wind_direction'], axis=1)\n",
    "\n",
    "for i in range(0, steps):\n",
    "    print('work on step ', (i+1))\n",
    "    test_data = pd.read_csv('test.csv', skiprows=range(1,i*(nrows)+1), nrows=nrows, parse_dates=['timestamp'])\n",
    "    test_data['month'] = test_data['timestamp'].dt.month\n",
    "    test_data['day'] = test_data['timestamp'].dt.weekday\n",
    "    test_data['year'] = test_data['timestamp'].dt.year\n",
    "    test_data['hour'] = test_data['timestamp'].dt.hour\n",
    "    test_data['weekend'] = np.where((test_data['day'] == 5) | (test_data['day'] == 6), 1, 0)\n",
    "    for feature in features_cyc.keys():\n",
    "        test_data[feature+'_sin'] = np.sin((2*np.pi*test_data[feature])/features_cyc[feature])\n",
    "        test_data[feature+'_cos'] = np.cos((2*np.pi*test_data[feature])/features_cyc[feature])\n",
    "    test_data = test_data.drop(features_cyc.keys(), axis=1)\n",
    "    test_data = pd.get_dummies(test_data, columns=['meter'])\n",
    "    test_data = pd.merge(test_data, building_data, on='building_id', right_index=True)\n",
    "    test_data = test_data.sort_values(['timestamp'])\n",
    "    test_data = test_data.astype({'site_id':'int64'})\n",
    "    test_data = pd.merge_asof(test_data, test_weather, on='timestamp', by='site_id', right_index=True)\n",
    "    test_data = test_data.sort_values(['row_id'])\n",
    "    for feature in features:\n",
    "        if feature not in test_data:\n",
    "            #print('   not in:', feature)\n",
    "            test_data[feature] = 0\n",
    "    test_generator = DataGenerator(test_data, test_data.index, features, batch_size)\n",
    "    predict = model.predict_generator(test_generator, verbose=1, workers=1)\n",
    "    predict = np.expm1(predict)\n",
    "    y_test = np.vstack((y_test, predict))\n",
    "   # del test_data\n",
    "   # del test_generator"
   ]
  },
  {
   "cell_type": "code",
   "execution_count": null,
   "metadata": {},
   "outputs": [],
   "source": [
    "len(y_test)"
   ]
  },
  {
   "cell_type": "code",
   "execution_count": 48,
   "metadata": {},
   "outputs": [],
   "source": [
    "y_test = np.delete(y_test, 0, 0)"
   ]
  },
  {
   "cell_type": "code",
   "execution_count": 49,
   "metadata": {},
   "outputs": [
    {
     "data": {
      "text/plain": [
       "array([[ 0.        ],\n",
       "       [ 0.        ],\n",
       "       [ 0.        ],\n",
       "       ...,\n",
       "       [17.39269638],\n",
       "       [26.9811821 ],\n",
       "       [72.2310257 ]])"
      ]
     },
     "execution_count": 49,
     "metadata": {},
     "output_type": "execute_result"
    }
   ],
   "source": [
    "y_test"
   ]
  },
  {
   "cell_type": "code",
   "execution_count": null,
   "metadata": {},
   "outputs": [],
   "source": [
    "# del test_weather\n",
    "# del building_data"
   ]
  },
  {
   "cell_type": "code",
   "execution_count": 50,
   "metadata": {},
   "outputs": [],
   "source": [
    "output = pd.DataFrame({'row_id': range(0, len(y_test)),\n",
    "                       'meter_reading': y_test.reshape(len(y_test))})\n",
    "output = output[['row_id', 'meter_reading']]\n",
    "output.to_csv('submission.csv', index=False)"
   ]
  },
  {
   "cell_type": "code",
   "execution_count": null,
   "metadata": {},
   "outputs": [],
   "source": []
  }
 ],
 "metadata": {
  "kernelspec": {
   "display_name": "Python 3",
   "language": "python",
   "name": "python3"
  },
  "language_info": {
   "codemirror_mode": {
    "name": "ipython",
    "version": 3
   },
   "file_extension": ".py",
   "mimetype": "text/x-python",
   "name": "python",
   "nbconvert_exporter": "python",
   "pygments_lexer": "ipython3",
   "version": "3.6.8"
  }
 },
 "nbformat": 4,
 "nbformat_minor": 2
}
